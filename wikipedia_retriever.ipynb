{
 "cells": [
  {
   "cell_type": "markdown",
   "id": "4254f237",
   "metadata": {},
   "source": [
    "## Wikipedia information fetcher\n",
    "\n",
    "In this notebook I retrieve the information of one wikipedia article given a topic and its domain (to avoid disambiguation)\n",
    "The content of the article is summarized and displayed.\n",
    "The correlated topics are also displayed with the respective url"
   ]
  },
  {
   "cell_type": "code",
   "execution_count": 1,
   "id": "1a68481a",
   "metadata": {},
   "outputs": [
    {
     "name": "stderr",
     "output_type": "stream",
     "text": [
      "2022-11-11 10:00:26.595898: I tensorflow/stream_executor/platform/default/dso_loader.cc:53] Successfully opened dynamic library libcudart.so.11.0\n"
     ]
    }
   ],
   "source": [
    "import os\n",
    "import re\n",
    "import requests\n",
    "from transformers import pipeline"
   ]
  },
  {
   "cell_type": "code",
   "execution_count": 2,
   "id": "fb0a2bcd",
   "metadata": {},
   "outputs": [
    {
     "name": "stdout",
     "output_type": "stream",
     "text": [
      "What scientific field or term would you like to know more about?: nlp\n",
      "What domain you mean?: deep learning\n"
     ]
    }
   ],
   "source": [
    "# input topic and domain\n",
    "\n",
    "string = input(\"What scientific field or term would you like to know more about?: \")\n",
    "domain = input(\"What domain you mean?: \")"
   ]
  },
  {
   "cell_type": "markdown",
   "id": "d1514528",
   "metadata": {},
   "source": [
    "### Retrieve Wikipedia article from Google search (given topic name and its' domain)"
   ]
  },
  {
   "cell_type": "code",
   "execution_count": 3,
   "id": "e47619a7",
   "metadata": {},
   "outputs": [],
   "source": [
    "\n",
    "from bs4 import BeautifulSoup\n",
    "import requests\n",
    "from cleantext import clean\n",
    "    \n",
    "\n",
    "\n",
    "def retrieve_wikipedia(search, domain):\n",
    "    \"\"\"\n",
    "    Method to retrieve wikipedia url of one article (searching from google) given a search term and its' domain\n",
    "    \"\"\"\n",
    "    headers = {\n",
    "    \"User-Agent\":\n",
    "    \"Mozilla/5.0 (Windows NT 10.0; Win64; x64) AppleWebKit/537.36 (KHTML, like Gecko) Chrome/107.0.0.0 Safari/537.36\"\n",
    "    }\n",
    "    query = search + \" \" + domain + \" site:en.wikipedia.org\"\n",
    "    url=\"https://www.google.com/search?q=\" + query\n",
    "    page = requests.get(url, headers=headers).text\n",
    "    soup = BeautifulSoup(page, \"lxml\")\n",
    "   \n",
    "    urls = str(soup.find_all(\"div\", \"yuRUbf\")[0])\n",
    "    url = [i for i in urls.split() if \"href\" in i][0]\n",
    "    url = url.split(\"=\")[1].strip('\"')\n",
    "   \n",
    "    page = requests.get(url, headers=headers).text\n",
    "    soup = BeautifulSoup(page, \"lxml\")\n",
    "    text=\"\"\n",
    "    for i in soup.find_all(\"p\"):\n",
    "        text += i.text.replace(\"\\n\", \"\")\n",
    "    return re.sub(\"[\\(\\[].*?[\\)\\]]\", \"\", text), url\n",
    "\n",
    "text, url = retrieve_wikipedia(string, domain)\n"
   ]
  },
  {
   "cell_type": "markdown",
   "id": "dab806ac",
   "metadata": {},
   "source": [
    "Print article text:"
   ]
  },
  {
   "cell_type": "code",
   "execution_count": 4,
   "id": "6f79eb32",
   "metadata": {},
   "outputs": [
    {
     "name": "stdout",
     "output_type": "stream",
     "text": [
      "Natural language processing  is a subfield of linguistics, computer science, and artificial intelligence concerned with the interactions between computers and human language, in particular how to program computers to process and analyze large amounts of natural language data.  The goal is a computer capable of \"understanding\" the contents of documents, including the contextual nuances of the language within them. The technology can then accurately extract information and insights contained in the documents as well as categorize and organize the documents themselves.Challenges in natural language processing frequently involve speech recognition, natural-language understanding, and natural-language generation.Natural language processing has its roots in the 1950s. Already in 1950, Alan Turing published an article titled \"Computing Machinery and Intelligence\" which proposed what is now called the Turing test as a criterion of intelligence, though at the time that was not articulated as a problem separate from artificial intelligence. The proposed test includes a task that involves the automated interpretation and generation of natural language.The premise of symbolic NLP is well-summarized by John Searle's Chinese room experiment: Given a collection of rules , the computer emulates natural language understanding  by applying those rules to the data it confronts.Up to the 1980s, most natural language processing systems were based on complex sets of hand-written rules.  Starting in the late 1980s, however, there was a revolution in natural language processing with the introduction of machine learning algorithms for language processing.  This was due to both the steady increase in computational power  and the gradual lessening of the dominance of Chomskyan theories of linguistics , whose theoretical underpinnings discouraged the sort of corpus linguistics that underlies the machine-learning approach to language processing.In the 2010s, representation learning and deep neural network-style machine learning methods became widespread in natural language processing. That popularity was due partly to a flurry of results showing that such techniques can achieve state-of-the-art results in many natural language tasks, e.g., in language modeling and parsing. This is increasingly important in medicine and healthcare, where NLP helps analyze notes and text in electronic health records that would otherwise be inaccessible for study when seeking to improve care.In the early days, many language-processing systems were designed by symbolic methods, i.e., the hand-coding of a set of rules, coupled with a dictionary lookup: such as by writing grammars or devising heuristic rules for stemming.More recent systems based on machine-learning algorithms have many advantages over hand-produced rules: Despite the popularity of machine learning in NLP research, symbolic methods are still  commonly used:Since the so-called \"statistical revolution\" in the late 1980s and mid-1990s, much natural language processing research has relied heavily on machine learning. The machine-learning paradigm calls instead for using statistical inference to automatically learn such rules through the analysis of large corpora  of typical real-world examples.Many different classes of machine-learning algorithms have been applied to natural-language-processing tasks. These algorithms take as input a large set of \"features\" that are generated from the input data. Increasingly, however, research has focused on statistical models, which make soft, probabilistic decisions based on attaching real-valued weights to each input feature  and neural networks in general have also been proposed, for e.g. speech). Such models have the advantage that they can express the relative certainty of many different possible answers rather than only one, producing more reliable results when such a model is included as a component of a larger system.Some of the earliest-used machine learning algorithms, such as decision trees, produced systems of hard if-then rules similar to existing hand-written rules.  However, part-of-speech tagging introduced the use of hidden Markov models to natural language processing, and increasingly, research has focused on statistical models, which make soft, probabilistic decisions based on attaching real-valued weights to the features making up the input data. The cache language models upon which many speech recognition systems now rely are examples of such statistical models.  Such models are generally more robust when given unfamiliar input, especially input that contains errors , and produce more reliable results when integrated into a larger system comprising multiple subtasks.Since the neural turn, statistical methods in NLP research have been largely replaced by neural networks. However, they continue to be relevant for contexts in which statistical interpretability and transparency is required.A major drawback of statistical methods is that they require elaborate feature engineering. Since 2015, the field has thus largely abandoned statistical methods and shifted to neural networks for machine learning. Popular techniques include the use of word embeddings to capture semantic properties of words, and an increase in end-to-end learning of a higher-level task  instead of relying on a pipeline of separate intermediate tasks . In some areas, this shift has entailed substantial changes in how NLP systems are designed, such that deep neural network-based approaches may be viewed as a new paradigm distinct from statistical natural language processing. For instance, the term neural machine translation  emphasizes the fact that deep learning-based approaches to machine translation directly learn sequence-to-sequence transformations, obviating the need for intermediate steps such as word alignment and language modeling that was used in statistical machine translation .The following is a list of some of the most commonly researched tasks in natural language processing. Some of these tasks have direct real-world applications, while others more commonly serve as subtasks that are used to aid in solving larger tasks.Though natural language processing tasks are closely intertwined, they can be subdivided into categories for convenience. A coarse division is given below.Based on long-standing trends in the field, it is possible to extrapolate future directions of NLP. As of 2020, three trends among the topics of the long-standing series of CoNLL Shared Tasks can be observed:Most higher-level NLP applications involve aspects that emulate intelligent behaviour and apparent comprehension of natural language. More broadly speaking, the technical operationalization of increasingly advanced aspects of cognitive behaviour represents one of the developmental trajectories of NLP .Cognition refers to \"the mental action or process of acquiring knowledge and understanding through thought, experience, and the senses.\" Cognitive science is the interdisciplinary, scientific study of the mind and its processes. Cognitive linguistics is an interdisciplinary branch of linguistics, combining knowledge and research from both psychology and linguistics. Especially during the age of symbolic NLP, the area of computational linguistics maintained strong ties with cognitive studies.As an example, George Lakoff offers a methodology to build natural language processing  algorithms through the perspective of cognitive science, along with the findings of cognitive linguistics, with two defining aspects:Ties with cognitive linguistics are part of the historical heritage of NLP, but they have been less frequently addressed since the statistical turn during the 1990s. Nevertheless, approaches to develop cognitive models towards technically operationalizable frameworks have been pursued in the context of various frameworks, e.g., of cognitive grammar, functional grammar, construction grammar, computational psycholinguistics and cognitive neuroscience , however, with limited uptake in mainstream NLP  of the ACL). More recently, ideas of cognitive NLP have been revived as an approach to achieve explainability, e.g., under the notion of \"cognitive AI\". Likewise, ideas of cognitive NLP are inherent to neural models multimodal NLP .\n"
     ]
    }
   ],
   "source": [
    "print(text)"
   ]
  },
  {
   "cell_type": "markdown",
   "id": "21780897",
   "metadata": {},
   "source": [
    "### Summarize the whole Wikipedia article with huggingface's baseline summary transformer\n"
   ]
  },
  {
   "cell_type": "code",
   "execution_count": 11,
   "id": "8ea8bf49",
   "metadata": {},
   "outputs": [
    {
     "name": "stdout",
     "output_type": "stream",
     "text": [
      "['.env', '.git', '.ipynb_checkpoints', 'wikipedia_retriever.ipynb']\n",
      "[{'summary_text': 'Natural language processing is a subfield of linguistics, computer science, and artificial intelligence. The goal is a computer capable of \"understanding\" the contents of documents, including contextual nuances of the language within them. In the 2010s, representation learning and deep neural network-style machine learning methods became widespread in natural language processing.'}]\n"
     ]
    }
   ],
   "source": [
    "import os\n",
    "import requests\n",
    "from dotenv import load_dotenv\n",
    "load_dotenv()\n",
    "api_token = os.environ[\"hf_api_token\"]\n",
    "# You're going to need to create a file named \".env\" in the root directory. Then, add the line: hf_api_token=hf_XXXXXXXXXXX (where hf_XXXXX is your huggingface access token)\n",
    "\n",
    "\n",
    "def query(payload, model_id):\n",
    "    headers = {\"Authorization\": f\"Bearer {api_token}\"}\n",
    "    API_URL = f\"https://api-inference.huggingface.co/models/{model_id}\"\n",
    "    response = requests.post(API_URL, headers=headers, json=payload)\n",
    "    return response.json()\n",
    "\n",
    "\n",
    "if __name__ == \"__main__\":\n",
    "    model_id = \"facebook/bart-large-cnn\"\n",
    "    data = query(text, model_id)\n",
    "    print(data)\n"
   ]
  },
  {
   "cell_type": "code",
   "execution_count": null,
   "id": "f090da4a",
   "metadata": {},
   "outputs": [
    {
     "name": "stderr",
     "output_type": "stream",
     "text": [
      "No model was supplied, defaulted to sshleifer/distilbart-cnn-12-6 (https://huggingface.co/sshleifer/distilbart-cnn-12-6)\n"
     ]
    }
   ],
   "source": [
    "pipe = pipeline(\"summarization\", max_length=64)"
   ]
  },
  {
   "cell_type": "markdown",
   "id": "961a0108",
   "metadata": {},
   "source": [
    "Print the summary of the article:"
   ]
  },
  {
   "cell_type": "code",
   "execution_count": 9,
   "id": "f5bf7a4a",
   "metadata": {},
   "outputs": [
    {
     "name": "stdout",
     "output_type": "stream",
     "text": [
      " Natural language processing is a subfield of linguistics, computer science, and artificial intelligence concerned with interactions between computers and human language . The goal is a computer capable of \"understanding\" the contents of documents, including the contextual nuances of the language within them . The technology can then extract information and insights contained Representation learning and deep neural network-style machine learning methods became widespread in natural language processing in the 2010s . Such techniques can achieve state-of-the-art results in many natural language tasks, eg, in language modeling and parsing . This is increasingly important in medicine and healthcare, where NLP Many different machine-learning algorithms have been applied to natural-language-processing tasks . These algorithms take as input a large set of \"features\" that are generated from the input data . Increasingly, research has focused on statistical models, which make soft, probabilistic decisions based on attaching real-valued Statistical methods in NLP research have been largely replaced by neural networks . Such models are generally more robust when given unfamiliar input, especially input that contains errors, and produce more reliable results when integrated into a larger system comprising multiple subtasks . The following is a list of some of the most commonly researched tasks in Most higher-level NLP applications involve aspects that emulate intelligent behaviour and apparent comprehension of natural language . More broadly speaking, the technical operationalization of increasingly advanced aspects of cognitive behaviour represents one of the developmental trajectories of NLP . As of 2020, three trends among the topics of the CoNLL Shared Ideas of cognitive NLP have been revived as an approach to achieve explainability, eg, under the notion of \"cognitive AI\" Concepts of cognitive grammar, functional grammar, construction grammar, computational psycholinguistics and cognitive neuroscience have limited uptake in mainstream NLP of the ACL .\n"
     ]
    }
   ],
   "source": [
    "def summarize_article(text):\n",
    "    length_article = len(text.split(\".\"))\n",
    "    summary=\"\"\n",
    "    for i in range(0, length_article, 10):\n",
    "        split=\"\"\n",
    "        for i in text.split(\".\")[i:i+10]:\n",
    "            split += i\n",
    "        summ = pipe(split)\n",
    "        summary+=summ[0]['summary_text']      \n",
    "    print(summary)  \n",
    "        \n",
    "summarize_article(text)"
   ]
  },
  {
   "cell_type": "markdown",
   "id": "ebfbf7db",
   "metadata": {},
   "source": [
    "### Retrieve related topics "
   ]
  },
  {
   "cell_type": "code",
   "execution_count": 10,
   "id": "dcac7ec8",
   "metadata": {},
   "outputs": [
    {
     "name": "stdout",
     "output_type": "stream",
     "text": [
      "['1 the Road', 'Automated essay scoring', 'Biomedical text mining', 'Compound term processing', 'Computational linguistics', 'Computer-assisted reviewing', 'Controlled natural language', 'Deep learning', 'Deep linguistic processing', 'Distributional semantics', 'Foreign language reading aid', 'Foreign language writing aid', 'Information extraction', 'Information retrieval', 'Language and Communication Technologies', 'Language technology', 'Latent semantic indexing', 'Native-language identification', 'Natural-language programming', 'Natural-language understanding', 'Natural-language search', 'Outline of natural language processing', 'Query expansion', 'Query understanding', 'Reification (linguistics)', 'Speech processing', 'Spoken dialogue systems', 'Text-proofing', 'Text simplification', 'Transformer (machine learning model)', 'Truecasing', 'Question answering', 'Word2vec']\n"
     ]
    }
   ],
   "source": [
    "def related_wikipedia(url):\n",
    "    page = requests.get(url).text\n",
    "    soup = BeautifulSoup(page, \"lxml\")\n",
    "    text = soup.find(\"div\", \"div-col\").text#.strip().replace(\"\\n\", \", \")\n",
    "    return [i.strip() for i in text.split(\"\\n\") if i != \"\"]\n",
    "\n",
    "related = related_wikipedia(url)\n",
    "print(related)"
   ]
  },
  {
   "cell_type": "markdown",
   "id": "e2aa9f92",
   "metadata": {},
   "source": [
    "### Retrieve categories and their urls"
   ]
  },
  {
   "cell_type": "code",
   "execution_count": 19,
   "id": "dca42f6d",
   "metadata": {},
   "outputs": [
    {
     "name": "stdout",
     "output_type": "stream",
     "text": [
      "['Natural language processing', 'Artificial intelligence', 'Computational fields of study', 'Computational linguistics', 'Speech recognition']\n"
     ]
    }
   ],
   "source": [
    "def categories_wikipedia(url):\n",
    "    page = requests.get(url).text\n",
    "    soup = BeautifulSoup(page, \"lxml\")\n",
    "    text = soup.find(\"div\", \"mw-normal-catlinks\").text\n",
    "    categories = re.sub(r\"(\\w)([A-Z])\", r\"\\1, \\2\", categories)\n",
    "    return [i.strip() for i in categories.split(\":\")[1].split(\",\")]\n",
    "\n",
    "categories = categories_wikipedia(url)\n",
    "print(categories)"
   ]
  },
  {
   "cell_type": "code",
   "execution_count": 21,
   "id": "1a74b60d",
   "metadata": {},
   "outputs": [
    {
     "name": "stdout",
     "output_type": "stream",
     "text": [
      "['https://en.wikipedia.org//wiki/Help:Category', 'https://en.wikipedia.org//wiki/Category:Natural_language_processing', 'https://en.wikipedia.org//wiki/Category:Artificial_intelligence', 'https://en.wikipedia.org//wiki/Category:Computational_fields_of_study', 'https://en.wikipedia.org//wiki/Category:Computational_linguistics', 'https://en.wikipedia.org//wiki/Category:Speech_recognition']\n"
     ]
    }
   ],
   "source": [
    "def urls_wikipedia(url):\n",
    "    page = requests.get(url).text\n",
    "    soup = BeautifulSoup(page, \"lxml\")\n",
    "    text = soup.find(\"div\", \"mw-normal-catlinks\")\n",
    "    return([\"https://en.wikipedia.org/\" + i.split('\"')[1] for i in str(text).split(\" \") if \"href\" in i])\n",
    "\n",
    "urls = urls_wikipedia(url)\n",
    "\n",
    "print(urls)"
   ]
  },
  {
   "cell_type": "markdown",
   "id": "cb2c6399",
   "metadata": {},
   "source": [
    "### Retrieve subtopics and their urls"
   ]
  },
  {
   "cell_type": "code",
   "execution_count": 9,
   "id": "18e7a1e7",
   "metadata": {},
   "outputs": [
    {
     "name": "stdout",
     "output_type": "stream",
     "text": [
      "['1 the Road', 'Automated essay scoring', 'Biomedical text mining', 'Compound term processing', 'Computational linguistics', 'Computer-assisted reviewing', 'Controlled natural language', 'Deep learning', 'Deep linguistic processing', 'Distributional semantics', 'Foreign language reading aid', 'Foreign language writing aid', 'Information extraction', 'Information retrieval', 'Language and Communication Technologies', 'Language technology', 'Latent semantic indexing', 'Native-language identification', 'Natural-language programming', 'Natural-language understanding', 'Natural-language search', 'Outline of natural language processing', 'Query expansion', 'Query understanding', 'Reification (linguistics)', 'Speech processing', 'Spoken dialogue systems', 'Text-proofing', 'Text simplification', 'Transformer (machine learning model)', 'Truecasing', 'Question answering', 'Word2vec']\n"
     ]
    }
   ],
   "source": [
    "def subtopics_wikipedia(url):\n",
    "    page = requests.get(url).text\n",
    "    soup = BeautifulSoup(page, \"lxml\")\n",
    "    text = (soup.find(\"td\", \"navbox-list navbox-odd hlist\").text).split(\"\\n\")\n",
    "    return [i for i in text if i != \"\"]\n",
    "\n",
    "related = related_wikipedia(url)\n",
    "print(related)"
   ]
  },
  {
   "cell_type": "code",
   "execution_count": 26,
   "id": "0d4cc93e",
   "metadata": {},
   "outputs": [
    {
     "name": "stdout",
     "output_type": "stream",
     "text": [
      "['https://en.wikipedia.org//wiki/Acceptance_and_commitment_therapy', 'https://en.wikipedia.org//wiki/Behavior_therapy', 'https://en.wikipedia.org//wiki/Behavioral_activation', 'https://en.wikipedia.org//wiki/Cognitive_analytic_therapy', 'https://en.wikipedia.org//wiki/Cognitive_behavioral_analysis_system_of_psychotherapy', 'https://en.wikipedia.org//wiki/Cognitive_therapy', 'https://en.wikipedia.org//wiki/Community_reinforcement_approach_and_family_training', 'https://en.wikipedia.org//wiki/Compassion-focused_therapy', 'https://en.wikipedia.org//wiki/Contingency_management', 'https://en.wikipedia.org//wiki/Desensitization_(psychology)', 'https://en.wikipedia.org//wiki/Exposure_therapy', 'https://en.wikipedia.org//wiki/Direct_therapeutic_exposure', 'https://en.wikipedia.org//wiki/Exposure_and_response_prevention', 'https://en.wikipedia.org//wiki/Flooding_(psychology)', 'https://en.wikipedia.org//wiki/Prolonged_exposure_therapy', 'https://en.wikipedia.org//wiki/Systematic_desensitization', 'https://en.wikipedia.org//wiki/Dialectical_behavior_therapy', 'https://en.wikipedia.org//wiki/Functional_analytic_psychotherapy', 'https://en.wikipedia.org//wiki/Habit_reversal_training', 'https://en.wikipedia.org//wiki/Inference-based_therapy', 'https://en.wikipedia.org//wiki/Metacognitive_therapy', 'https://en.wikipedia.org//wiki/Method_of_levels', 'https://en.wikipedia.org//wiki/Mindfulness-based_cognitive_therapy', 'https://en.wikipedia.org//wiki/Multimodal_therapy', 'https://en.wikipedia.org//wiki/Rational_emotive_behavior_therapy', 'https://en.wikipedia.org//wiki/Reality_therapy', 'https://en.wikipedia.org//wiki/Relapse_prevention', 'https://en.wikipedia.org//wiki/Schema_therapy', 'https://en.wikipedia.org//wiki/Self-control_therapy']\n"
     ]
    }
   ],
   "source": [
    "def sub_urls_wikipedia(url):\n",
    "    page = requests.get(url).text\n",
    "    soup = BeautifulSoup(page, \"lxml\")\n",
    "    text = soup.find(\"td\", \"navbox-list navbox-odd hlist\")\n",
    "    return([\"https://en.wikipedia.org/\" + i.split('\"')[1] for i in str(text).split(\" \") if \"href\" in i])\n",
    "\n",
    "urls = sub_urls_wikipedia(\"https://en.wikipedia.org/wiki/Cognitive_behavioral_therapy\")\n",
    "print(urls)"
   ]
  },
  {
   "cell_type": "code",
   "execution_count": null,
   "id": "e05e1d9b",
   "metadata": {},
   "outputs": [],
   "source": []
  }
 ],
 "metadata": {
  "kernelspec": {
   "display_name": "Python 3 (ipykernel)",
   "language": "python",
   "name": "python3"
  },
  "language_info": {
   "codemirror_mode": {
    "name": "ipython",
    "version": 3
   },
   "file_extension": ".py",
   "mimetype": "text/x-python",
   "name": "python",
   "nbconvert_exporter": "python",
   "pygments_lexer": "ipython3",
   "version": "3.9.0"
  }
 },
 "nbformat": 4,
 "nbformat_minor": 5
}
